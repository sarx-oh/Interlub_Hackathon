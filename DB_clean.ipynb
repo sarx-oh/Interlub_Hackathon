{
 "cells": [
  {
   "cell_type": "code",
   "execution_count": null,
   "metadata": {},
   "outputs": [],
   "source": [
    "import pandas as pd\n",
    "\n",
    "archivo_entrada = \"/content/drive/MyDrive/Interlub/DataHackathon.xlsx\" \n",
    "\n",
    "df = pd.read_excel(archivo_entrada)\n",
    "\n",
    "# Eliminar filas duplicadas\n",
    "print(df.isnull().sum())\n",
    "df = df.drop_duplicates()\n",
    "\n",
    "# Modificar la columna \"Cantidad\" eliminando los últimos 3 ceros si terminan en \"000\"\n",
    "df[\"Cantidad\"] = df[\"Cantidad\"].astype(str).str.replace(r\"000$\", \"\", regex=True)\n",
    "\n",
    "# Guardar el archivo modificado en un nuevo Excel\n",
    "archivo_salida = \"df_final.xlsx\"\n",
    "df.to_excel(archivo_salida, index=False)\n",
    "\n",
    "print(f\"Archivo procesado y guardado como {archivo_salida}\")"
   ]
  }
 ],
 "metadata": {
  "language_info": {
   "name": "python"
  }
 },
 "nbformat": 4,
 "nbformat_minor": 2
}
