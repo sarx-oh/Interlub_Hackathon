{
 "cells": [
  {
   "cell_type": "code",
   "execution_count": null,
   "metadata": {},
   "outputs": [],
   "source": [
    "import numpy as np\n",
    "import pandas as pd\n",
    "import matplotlib.pyplot as plt\n",
    "import statsmodels.api as sm\n",
    "\n",
    "# Cargar los datos desde un archivo Excel\n",
    "file_path = '/content/drive/MyDrive/Interlub/df_final.xlsx'\n",
    "df = pd.read_excel(file_path)\n",
    "\n",
    "series = df['Cantidad']\n",
    "\n",
    "# Ajustar el modelo MA(1) a la serie temporal de tus datos\n",
    "order = (0, 0, 3)  # (p, d, q) para un MA(1), p=0, d=0, q=1\n",
    "model = sm.tsa.ARIMA(series, order=order)\n",
    "result = model.fit()\n",
    "\n",
    "# Imprimir los resultados del modelo\n",
    "print(result.summary())\n",
    "\n",
    "# Graficar la serie original y los valores ajustados\n",
    "plt.plot(series, label='Datos Originales')\n",
    "plt.plot(result.fittedvalues, label='Valores Ajustados', color='red')\n",
    "plt.legend()\n",
    "plt.show()"
   ]
  },
  {
   "cell_type": "code",
   "execution_count": null,
   "metadata": {},
   "outputs": [],
   "source": [
    "print(f\"Tamaño de los datos reales (test): {len(test)}\")\n",
    "print(f\"Tamaño de las predicciones: {len(predictions)}\")"
   ]
  },
  {
   "cell_type": "code",
   "execution_count": null,
   "metadata": {},
   "outputs": [],
   "source": [
    "from statsmodels.tsa.stattools import adfuller\n",
    "result = adfuller(series)\n",
    "print('p-value:', result[1])"
   ]
  },
  {
   "cell_type": "code",
   "execution_count": null,
   "metadata": {},
   "outputs": [],
   "source": [
    "#Grid Search para encontrar los mejores parametros\n",
    "import itertools\n",
    "from statsmodels.tsa.arima.model import ARIMA\n",
    "\n",
    "# Parámetros posibles para el ARIMA\n",
    "p_values = range(0, 3)  # Los valores para p\n",
    "d_values = range(0, 2)  # Los valores para d\n",
    "q_values = range(0, 3)  # Los valores para q\n",
    "\n",
    "# Crear todas las combinaciones posibles de p, d, q\n",
    "params = list(itertools.product(p_values, d_values, q_values))\n",
    "\n",
    "best_mse = float('inf')\n",
    "best_order = None\n",
    "\n",
    "# Buscar el mejor modelo\n",
    "for order in params:\n",
    "    try:\n",
    "        model = ARIMA(train, order=order)\n",
    "        result = model.fit()\n",
    "        predictions = result.forecast(steps=len(test))\n",
    "        mse = mean_squared_error(test, predictions)\n",
    "        if mse < best_mse:\n",
    "            best_mse = mse\n",
    "            best_order = order\n",
    "    except:\n",
    "        continue  # En caso de error, saltar esa combinación\n",
    "\n",
    "print(f\"Mejor orden ARIMA encontrado: {best_order} con MSE: {best_mse}\")\n"
   ]
  },
  {
   "cell_type": "code",
   "execution_count": null,
   "metadata": {},
   "outputs": [],
   "source": [
    "plt.plot(test, label='Datos reales')\n",
    "plt.plot(predictions, label='Predicciones', color='red')\n",
    "plt.legend()\n",
    "plt.show()\n"
   ]
  },
  {
   "cell_type": "code",
   "execution_count": null,
   "metadata": {},
   "outputs": [],
   "source": [
    "from sklearn.metrics import mean_squared_error\n",
    "\n",
    "# Calcular el MSE entre los valores originales y los ajustados\n",
    "mse = mean_squared_error(series, result.fittedvalues)\n",
    "print(f\"Mean Squared Error (MSE): {mse}\")"
   ]
  }
 ],
 "metadata": {
  "language_info": {
   "name": "python"
  }
 },
 "nbformat": 4,
 "nbformat_minor": 2
}
